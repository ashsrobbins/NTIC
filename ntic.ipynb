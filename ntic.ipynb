{
 "cells": [
  {
   "cell_type": "code",
   "execution_count": 15,
   "metadata": {},
   "outputs": [],
   "source": [
    "import numpy as np\n",
    "import matplotlib.pyplot as plt\n",
    "import sklearn\n",
    "from hmmlearn import hmm\n",
    "\n",
    "np.set_printoptions(formatter={'float': lambda x: \"{0:0.3f}\".format(x)})\n"
   ]
  },
  {
   "cell_type": "markdown",
   "metadata": {},
   "source": [
    "# Now we make it a multinomial to reproduce results"
   ]
  },
  {
   "cell_type": "code",
   "execution_count": 16,
   "metadata": {},
   "outputs": [],
   "source": [
    "\n",
    "##############################################################\n",
    "# Prepare parameters for a 4-components HMM\n",
    "# Initial population probability\n",
    "startprob = np.array([1, 0, 0, 0])\n",
    "# The transition matrix, note that there are no transitions possible\n",
    "# between component 1 and 3\n",
    "transmat = np.array([[0, 0, 0, 1],\n",
    "                     [1, 0, 0, 0],\n",
    "                     [0, 1, 0, 0],\n",
    "                     [0, 0, 1, 0]])\n",
    "# The means of each component\n",
    "means = np.array([[0.0,  0.0],\n",
    "                  [0.0, 10.0],\n",
    "                  [10.0, 10.0],\n",
    "                  [10.0, 0.0]])\n",
    "# The covariance of each component\n",
    "# Sampling for the observing model\n",
    "# covars = .1 * np.tile(np.identity(2), (4, 1, 1))\n",
    "\n",
    "#Probability of emitting value from a given state\n",
    "# n_components,n_features\n",
    "r_corr = 1\n",
    "emissionprob = np.array([[r_corr, 1 - r_corr, 0, 0],\n",
    "                        [0, r_corr, 1 - r_corr, 0],\n",
    "                        [0, 0, r_corr, 1 - r_corr],\n",
    "                        [1 - r_corr, 0, 0, r_corr]])\n",
    "\n",
    "# Build an HMM instance and set parameters\n",
    "model_d = hmm.MultinomialHMM(n_components=4)\n",
    "\n",
    "# Instead of fitting it from the data, we directly set the estimated\n",
    "# parameters, the means and covariance of the components\n",
    "model_d.startprob_ = startprob\n",
    "model_d.transmat_ = transmat\n",
    "model_d.means_ = means\n",
    "model_d.emissionprob_ = emissionprob\n",
    "###############################################################\n",
    "\n",
    "# Generate samples\n",
    "X, Z = model_d.sample(100000)\n"
   ]
  },
  {
   "cell_type": "code",
   "execution_count": 17,
   "metadata": {},
   "outputs": [
    {
     "name": "stdout",
     "output_type": "stream",
     "text": [
      "Score of 0: 0.0\n",
      "New best 0.0\n",
      "Score of 1: 0.0\n",
      "Score of 2: 0.0\n"
     ]
    }
   ],
   "source": [
    "def run_trials(X,num=20,num_comp=4):\n",
    "    best_mod = None\n",
    "    sc = 0\n",
    "    best = -np.inf\n",
    "    for i in range(num):\n",
    "        mod = hmm.MultinomialHMM(n_components=num_comp)\n",
    "        mod.fit(X)\n",
    "        sc = mod.score(X)\n",
    "        print('Score of {}:'.format(i),sc)\n",
    "        if sc > best:\n",
    "            best = sc\n",
    "            best_model = mod\n",
    "            print('New best', best)\n",
    "        \n",
    "    return best_model, best\n",
    "    \n",
    "    \n",
    "best_mod,best_sc = run_trials(X,3)\n"
   ]
  },
  {
   "cell_type": "markdown",
   "metadata": {},
   "source": [
    "# We need to take the environment samples and use them to get the next agent state\n",
    "The agent was trained with the goal of maximizing log likelihood of predicted state dist with true distribution using the EM(expectation maximization) algorithm."
   ]
  },
  {
   "cell_type": "code",
   "execution_count": 18,
   "metadata": {},
   "outputs": [
    {
     "name": "stdout",
     "output_type": "stream",
     "text": [
      "Distribution p(yt+1,yt,et):\n",
      " [[[0.000 0.000 0.000 0.000]\n",
      "  [24999.000 0.000 0.000 0.000]\n",
      "  [0.000 0.000 0.000 0.000]\n",
      "  [0.000 0.000 0.000 0.000]]\n",
      "\n",
      " [[0.000 0.000 0.000 0.000]\n",
      "  [0.000 0.000 0.000 0.000]\n",
      "  [0.000 24999.000 0.000 0.000]\n",
      "  [0.000 0.000 0.000 0.000]]\n",
      "\n",
      " [[0.000 0.000 0.000 0.000]\n",
      "  [0.000 0.000 0.000 0.000]\n",
      "  [0.000 0.000 0.000 0.000]\n",
      "  [0.000 0.000 25000.000 0.000]]\n",
      "\n",
      " [[0.000 0.000 0.000 25000.000]\n",
      "  [0.000 0.000 0.000 0.000]\n",
      "  [0.000 0.000 0.000 0.000]\n",
      "  [0.000 0.000 0.000 0.000]]]\n"
     ]
    }
   ],
   "source": [
    "#ys is y predicted from model\n",
    "#X is true env E_t\n",
    "def make_pxpypz(X, model):\n",
    "    c,ys = model.decode(X)\n",
    "    y1ye = np.zeros((4,4,4))\n",
    "\n",
    "    #Make data\n",
    "    for i in range(X.shape[0]):\n",
    "        #Within bounds\n",
    "        if i > 0 and i < X.shape[0] - 1:\n",
    "            y1ye[ys[i+1],ys[i],X[i,0]] += 1\n",
    "            \n",
    "    return y1ye\n",
    "y1ye = make_pxpypz(X,best_mod)\n",
    "    \n",
    "print('Distribution p(yt+1,yt,et):\\n',y1ye)"
   ]
  },
  {
   "cell_type": "markdown",
   "metadata": {},
   "source": [
    "Information Flow from E to Y defined as:\n",
    "\n",
    "\\begin{align}\n",
    "J_t(E\\rightarrow Y) :&= I(Y_{t+1};E_t|Y_t) \\\\\n",
    "& = I(Y_{t+1};E_t) - (I(Y_{t+1};Y_t) - I(Y_{t+1};Y_t|E_t)) \n",
    "\\end{align}\n",
    "\n",
    "If the agent is independent of the environment then there is no information flow between the two. Thus there is by definition information closure. However this is trivial information closure"
   ]
  },
  {
   "cell_type": "markdown",
   "metadata": {},
   "source": [
    "Non-trivial information closure involves an agent encoding information about the environment dynamics. This means the mutual information \n",
    "\n",
    "$$ I(Y_{t+1};E_t) > 0$$\n",
    "thus \n",
    "$$H(Y_{t+1}) - H(Y_{t+1}|E_t) > 0 $$\n",
    "Implying:\n",
    "$$ I(Y_{t+1};Yt) - 0$$"
   ]
  },
  {
   "cell_type": "markdown",
   "metadata": {},
   "source": [
    "# Entropy helper functions:\n",
    "* H(X)\n",
    "\n",
    "* H(X|Y) knowing p(x,y)\n",
    "\n",
    "* H(X|YZ) knowing p(x,y,z)\n",
    "\n",
    "* H(X|Y) knowing p(x,y,z)"
   ]
  },
  {
   "cell_type": "code",
   "execution_count": 19,
   "metadata": {},
   "outputs": [
    {
     "name": "stdout",
     "output_type": "stream",
     "text": [
      "H(.5,.5) = 1.0 bits\n",
      "H(X|Y) = 1.375 bits\n",
      "H(X|Y,Z)) 1.0\n",
      "************\n",
      "H(X|Y) 1.0\n"
     ]
    },
    {
     "name": "stderr",
     "output_type": "stream",
     "text": [
      "/usr/local/lib/python3.7/site-packages/ipykernel_launcher.py:11: RuntimeWarning: divide by zero encountered in log2\n",
      "  # This is added back by InteractiveShellApp.init_path()\n",
      "/usr/local/lib/python3.7/site-packages/ipykernel_launcher.py:11: RuntimeWarning: invalid value encountered in multiply\n",
      "  # This is added back by InteractiveShellApp.init_path()\n"
     ]
    }
   ],
   "source": [
    "#Example\n",
    "#H(.5,.5) should be 1 bit\n",
    "p = np.array([.2,.2])\n",
    "def calc_entropy(p):\n",
    "    \"\"\"Calculate entropy of a 1d np array\n",
    "    \n",
    "    H(X) = sum over p(X) of -p(x)*log(p(x))\n",
    "    \"\"\"\n",
    "    tot = np.sum(p)\n",
    "    X = p*1/tot\n",
    "    ent_parts = -X*np.log2(X)\n",
    "    return np.nansum(ent_parts)\n",
    "\n",
    "#Vectorize\n",
    "v_calc_entropy = np.vectorize(calc_entropy,otypes=[np.float])\n",
    "\n",
    "print('H(.5,.5) =',calc_entropy(p),'bits')\n",
    "\n",
    "\n",
    "#Example\n",
    "p_rel = np.array([[1/8,1/16,1/32,1/32],\n",
    "                  [1/16,1/8,1/32,1/32],\n",
    "                  [1/16,1/16,1/16,1/16],\n",
    "                  [1/4,0,0,0]])\n",
    "\n",
    "#print(v_calc_entropy(p_rel))\n",
    "def condit_entropy(pxpy):\n",
    "    \"\"\"Calculate relative entropy of \n",
    "    \n",
    "    Sum of entropy of X given Y\n",
    "    \n",
    "    H(X|Y) = sum over y in Y, x in X of -p(y)*p(x|y)log(p(x|y))\n",
    "    \"\"\"\n",
    "    \n",
    "    #ent_parts = -p*np.log2(p)\n",
    "    tot = np.sum(pxpy)\n",
    "    pxpy_norm= pxpy*1/tot\n",
    "    \n",
    "    hxgy = np.zeros(pxpy.shape[0],)\n",
    "    \n",
    "    #probability of x given y should be the row,assuming y is the columns\n",
    "    for i,pxgy in enumerate(pxpy_norm):\n",
    "        hxgy[i] = calc_entropy(pxgy)\n",
    "    \n",
    "    #weights of the sum, or the probability of each component in y\n",
    "    py = np.sum(pxpy_norm,axis=1)\n",
    "#     print('py:',py)\n",
    "    return np.dot(py,hxgy)\n",
    "\n",
    "def condit_entropy_2(pxpypz):\n",
    "    \"\"\"Calculate relative entropy of \n",
    "    \n",
    "    Sum of entropy of X given Y,Z\n",
    "    \n",
    "    H(X|Y,Z) = sum over y in Y, x in X of -p(y)*p(x|y)log(p(x|y))\n",
    "    \"\"\"\n",
    "#     print('Begin')\n",
    "    #ent_parts = -p*np.log2(p)\n",
    "    tot = np.sum(pxpypz)\n",
    "    pxpypz_norm= pxpypz*1/tot\n",
    "    \n",
    "    \n",
    "    \n",
    "    hxgygz = np.zeros(pxpypz.shape[0],)\n",
    "    \n",
    "    ent = np.zeros((pxpypz.shape[0],pxpypz.shape[0]))\n",
    "    \n",
    "    count = 0\n",
    "    for i in range(pxpypz.shape[0]):\n",
    "        for j in range(pxpypz.shape[0]):\n",
    "#             print(i,j,pxpypz_norm[:,i,j])\n",
    "            #calc entropy, x still could be any\n",
    "#             print(np.sum(pxpypz_norm,axis=(1,2)))\n",
    "            ent[i,j] = calc_entropy(pxpypz_norm[:,i,j])\n",
    "#             print('distr = ',pxpypz_norm[:,i,j])\n",
    "#             print('entropy given y={},z={}'.format(i,j),ent[i,j])\n",
    "            py = np.sum(pxpypz[:,i,:])/np.sum(pxpypz)\n",
    "#             print('when y is',i,'\\nIt is:',py)\n",
    "            \n",
    "            pz = np.sum(pxpypz[:,:,j])/np.sum(pxpypz)\n",
    "#             print('when z is',j,'\\nIt is:',pz)\n",
    "            count+= pz*py\n",
    "            ent[i,j] *= pz*py\n",
    "            \n",
    "            \n",
    "    py = np.sum(pxpypz,axis=(0,2))\n",
    "    pz = np.sum(pxpypz,axis=(1,2))\n",
    "#     print('py',py)\n",
    "#     print('pz',pz)\n",
    "#     print('Entropy mat', ent)\n",
    "    \n",
    "    ent_out = np.sum(ent)\n",
    "#     print('H(X|Y,Z) =',np.sum(ent))\n",
    "    return ent_out\n",
    "\n",
    "\n",
    "def condit_entropy_2g1(pxpypz):\n",
    "    \"\"\"Calculate relative entropy of \n",
    "    \n",
    "    Sum of entropy of X given Y,Z\n",
    "    \n",
    "    H(X|Y) = sum over y in Y, x in X of -p(y)*p(x|y)log(p(x|y))\n",
    "    \"\"\"\n",
    "#     print('Begin')\n",
    "    tot = np.sum(pxpypz)\n",
    "    pxpypz_n= pxpypz*1/tot\n",
    "    \n",
    "    \n",
    "    \n",
    "    hxgygz = np.zeros(pxpypz.shape[0],)\n",
    "    \n",
    "    ent = np.zeros((pxpypz.shape[0]))\n",
    "    \n",
    "    count = 0\n",
    "    for i in range(pxpypz.shape[0]):\n",
    "        pxgy = pxpypz_n[:,i,:]\n",
    "#         print('sum/tot',np.sum(pxgy),np.sum(pxpypz_n))\n",
    "        py = np.sum(pxgy)/np.sum(pxpypz_n)\n",
    "#         print(pxgy)\n",
    "        pxgy = np.sum(pxgy,axis=-1)\n",
    "#         print(pxgy)\n",
    "        ent[i] = calc_entropy(pxgy)\n",
    "        \n",
    "        \n",
    "        count+= py\n",
    "#         print('Ent of',pxgy)\n",
    "#         print('ent',ent[i])\n",
    "#         print('py',py)\n",
    "        ent[i] *= py\n",
    "        \n",
    "#     print('HERE',count)\n",
    "        \n",
    "    return np.sum(ent)\n",
    "        \n",
    "\n",
    "\n",
    "w = np.ones((2,2,2))\n",
    "# w = np.zeros((2,2,2))\n",
    "# w[0,0,0] = .2\n",
    "# w[0,1,0] = .3\n",
    "# w[1,0,0] = .1\n",
    "# w[0,0,1] = .1\n",
    "# w[0,1,1] = .05\n",
    "# w[1,1,1] = .25\n",
    "# print('w',w)\n",
    "# print(np.sum(w))\n",
    "# print('wpa',w[:,1,:])\n",
    "\n",
    "\n",
    "print('H(X|Y) =', condit_entropy(p_rel), 'bits')\n",
    "\n",
    "print('H(X|Y,Z))', condit_entropy_2(w))\n",
    "print('************')\n",
    "print('H(X|Y)',condit_entropy_2g1(w))\n"
   ]
  },
  {
   "cell_type": "markdown",
   "metadata": {},
   "source": [
    "# Now that we have entropy and conditional entropy, we need KL divergence"
   ]
  },
  {
   "cell_type": "code",
   "execution_count": 20,
   "metadata": {},
   "outputs": [
    {
     "data": {
      "image/png": "[encoded data removed]",
      "text/plain": [
       "<Figure size 432x288 with 1 Axes>"
      ]
     },
     "metadata": {
      "needs_background": "light"
     },
     "output_type": "display_data"
    },
    {
     "data": {
      "image/png": "[encoded data removed]",
      "text/plain": [
       "<Figure size 432x288 with 1 Axes>"
      ]
     },
     "metadata": {
      "needs_background": "light"
     },
     "output_type": "display_data"
    },
    {
     "name": "stdout",
     "output_type": "stream",
     "text": [
      "721.3471122560642\n"
     ]
    },
    {
     "data": {
      "image/png": "[encoded data removed]",
      "text/plain": [
       "<Figure size 432x288 with 1 Axes>"
      ]
     },
     "metadata": {
      "needs_background": "light"
     },
     "output_type": "display_data"
    },
    {
     "name": "stdout",
     "output_type": "stream",
     "text": [
      "2885.3884382998426\n",
      "Looks about right\n"
     ]
    }
   ],
   "source": [
    "from scipy.stats import norm\n",
    "\n",
    "def kl(p,q):\n",
    "    '''Calculate KL divergence of q from p\n",
    "    D(X||Y) = sum over events i of p(i)*log(p(i)/q(i))\n",
    "    '''\n",
    "    \n",
    "    d = np.zeros(p.shape)\n",
    "    \n",
    "    \n",
    "    d = p*np.log2(p/q)\n",
    "    \n",
    "    return np.sum(d)\n",
    "x = np.array([0,1])\n",
    "p = np.array([.1,.9])\n",
    "q = np.array([.9,.1])\n",
    "plt.bar(x,p,alpha=.4)\n",
    "plt.bar(x,q,alpha=.4)\n",
    "plt.title('KL ' + str(kl(p,q)))\n",
    "plt.show()\n",
    "\n",
    "x = np.arange(-10, 10, 0.001)\n",
    "p = norm.pdf(x, 0, 2)\n",
    "q = norm.pdf(x, 2, 2)\n",
    "plt.plot(x,p)\n",
    "plt.plot(x,q)\n",
    "plt.title('KL '+ str(kl(p,q)))\n",
    "plt.show()\n",
    "print(kl(p,q))\n",
    "p = norm.pdf(x, 0, 2)\n",
    "q = norm.pdf(x, 4, 2)\n",
    "plt.plot(x,p)\n",
    "plt.plot(x,q)\n",
    "plt.title('KL '+ str(kl(p,q)))\n",
    "plt.show()\n",
    "print(kl(p,q))\n",
    "print('Looks about right')"
   ]
  },
  {
   "cell_type": "markdown",
   "metadata": {},
   "source": [
    "# Mutual information time\n",
    "We will know the true distribution of the environment $E$, however we will have a predicted distribution of the environment $\\hat{E}$ through the prediction system which should be a part of the agent\n"
   ]
  },
  {
   "cell_type": "markdown",
   "metadata": {},
   "source": [
    "\n",
    "\n",
    "The environment $E$ will be drawn from the probability distribution that we will have access to, or can be calculated from the data through (monte carlo) methods, starting at random state and seeing where it will go next (to ensure starting from each state evenly).\n",
    "\n",
    "The agents prediction of the environment next state should be sampled from the agents distribution. The output of the agent will be based on both the preceding environment and the preceding agent state. \n",
    "\n",
    "Ideally, the agent will perfectly model the environment when the agent doesn't have direct access to the environment state.\n",
    "\n",
    "Given what the agent takes in, we should be able to get the the distribution based on either feeding appropriate values into the estimation function. From this we can apporximate the normal entropy, the conditional entropy given the previous environment state, and the conditional entropy given the previous agent state"
   ]
  },
  {
   "cell_type": "raw",
   "metadata": {},
   "source": [
    "z = np.roll(np.eye((4)),1,axis=1)\n",
    "def obs_given_obs(E,T):\n",
    "    \"\"\"Takes in emission mat and transition probability mat\n",
    "    returns next observation prob given prev observation prob and transition prob\n",
    "    \"\"\"\n",
    "    return np.dot(E.T,np.dot(T,E))\n",
    "\n",
    "print('HERE',obs_given_obs(q,z))\n",
    "\n",
    "print('out')\n",
    "print(testq)\n",
    "\n",
    "print('H(et+1|e+t) = ',rel_entropy(obs_given_obs(q_est,z_est)))\n",
    "print('q',q)\n",
    "print('q_est',q_est)"
   ]
  },
  {
   "cell_type": "markdown",
   "metadata": {},
   "source": [
    "# Here will be the attempt to calculate NTIC\n",
    "\n",
    "$ NTIC = I(Y_{t+1};E_t) - I(Y_{t+1};E_t|Y_t) $\n",
    "\n",
    "$I(Y_{t+1};E_t) = H(Y_{t+1}) - H(Y_{t+1}|E_t)$\n",
    "\n",
    "$I(Y_{t+1};E_t|Y_t) = H(Y_{t+1}|Y_t) - H(Y_{t+1}|E_t,Y_t)$\n"
   ]
  },
  {
   "cell_type": "code",
   "execution_count": 21,
   "metadata": {},
   "outputs": [
    {
     "name": "stdout",
     "output_type": "stream",
     "text": [
      "H(Y_t+1) 1.0\n",
      "H(Y_t+1|e_t 1.0\n",
      "H(Y_t+1|Y_t) 1.0\n",
      "H(Y_t+1|E_t,Y_t) 1.0\n"
     ]
    },
    {
     "data": {
      "text/plain": [
       "(0.0, 0.0)"
      ]
     },
     "execution_count": 21,
     "metadata": {},
     "output_type": "execute_result"
    }
   ],
   "source": [
    "#This is the cell of all cells that will calculate NTIC\n",
    "\n",
    "def ntic(pxpypz):\n",
    "    '''Compute the non-trivial information closure defined above\n",
    "    assuming\n",
    "    px=p(y_t+1)\n",
    "    py = p(y_t)\n",
    "    pz = p(e_t)    \n",
    "    '''\n",
    "    hy1 = calc_entropy(np.sum(pxpypz,axis=(1,2)))\n",
    "    \n",
    "    \n",
    "    \n",
    "    pxpzpy = np.moveaxis(pxpypz,1,2)\n",
    "    hy1ge = condit_entropy_2g1(pxpzpy)\n",
    "    hy1gy = condit_entropy_2g1(pxpypz)\n",
    "    hy1gey = condit_entropy_2(pxpypz)\n",
    "    \n",
    "    print('H(Y_t+1)',hy1)\n",
    "    print('H(Y_t+1|e_t',hy1ge)\n",
    "    print('H(Y_t+1|Y_t)',hy1gy)\n",
    "    print('H(Y_t+1|E_t,Y_t)',hy1gey)\n",
    "    \n",
    "    ntic = (hy1 - hy1ge -(hy1gy-hy1gey))\n",
    "    info_flow = hy1gy - hy1gey\n",
    "    return ntic,info_flow\n",
    "\n",
    "\n",
    "ntic(w)\n"
   ]
  },
  {
   "cell_type": "markdown",
   "metadata": {},
   "source": [
    "# Looks about right, experiment time"
   ]
  },
  {
   "cell_type": "code",
   "execution_count": 22,
   "metadata": {},
   "outputs": [
    {
     "name": "stdout",
     "output_type": "stream",
     "text": [
      "H(Y_t+1) 1.9999999997114497\n",
      "H(Y_t+1|e_t 0.0\n",
      "H(Y_t+1|Y_t) 0.0\n",
      "H(Y_t+1|E_t,Y_t) 0.0\n",
      "Deterministic:\n",
      "NTIC:1.9999999997114497\n",
      "J:0.0\n"
     ]
    },
    {
     "name": "stderr",
     "output_type": "stream",
     "text": [
      "/usr/local/lib/python3.7/site-packages/ipykernel_launcher.py:11: RuntimeWarning: divide by zero encountered in log2\n",
      "  # This is added back by InteractiveShellApp.init_path()\n",
      "/usr/local/lib/python3.7/site-packages/ipykernel_launcher.py:11: RuntimeWarning: invalid value encountered in multiply\n",
      "  # This is added back by InteractiveShellApp.init_path()\n",
      "/usr/local/lib/python3.7/site-packages/ipykernel_launcher.py:10: RuntimeWarning: invalid value encountered in true_divide\n",
      "  # Remove the CWD from sys.path while we load stuff.\n"
     ]
    }
   ],
   "source": [
    "\n",
    "#Calculate for the deterministic case\n",
    "ntic_d,j_d = ntic(y1ye)\n",
    "print('Deterministic:\\nNTIC:{}\\nJ:{}'.format(ntic_d,j_d))\n",
    "\n",
    "\n",
    "\n",
    "\n"
   ]
  },
  {
   "cell_type": "markdown",
   "metadata": {},
   "source": [
    "# Make new environment"
   ]
  },
  {
   "cell_type": "code",
   "execution_count": 23,
   "metadata": {},
   "outputs": [],
   "source": [
    "\n",
    "##############################################################\n",
    "# Prepare parameters for a 4-components HMM\n",
    "# Initial population probability\n",
    "startprob = np.array([1, 0, 0, 0])\n",
    "# The transition matrix, note that there are no transitions possible\n",
    "# between component 1 and 3\n",
    "transmat = np.array([[0, 0, 0, 1],\n",
    "                     [1, 0, 0, 0],\n",
    "                     [0, 1, 0, 0],\n",
    "                     [0, 0, 1, 0]])\n",
    "# The means of each component\n",
    "means = np.array([[0.0,  0.0],\n",
    "                  [0.0, 10.0],\n",
    "                  [10.0, 10.0],\n",
    "                  [10.0, 0.0]])\n",
    "# The covariance of each component\n",
    "# Sampling for the observing model\n",
    "# covars = .1 * np.tile(np.identity(2), (4, 1, 1))\n",
    "\n",
    "#Probability of emitting value from a given state\n",
    "# n_components,n_features\n",
    "r_corr = .9\n",
    "emissionprob = np.array([[r_corr, 1 - r_corr, 0, 0],\n",
    "                        [0, r_corr, 1 - r_corr, 0],\n",
    "                        [0, 0, r_corr, 1 - r_corr],\n",
    "                        [1 - r_corr, 0, 0, r_corr]])\n",
    "\n",
    "# Build an HMM instance and set parameters\n",
    "model_d = hmm.MultinomialHMM(n_components=4)\n",
    "\n",
    "# Instead of fitting it from the data, we directly set the estimated\n",
    "# parameters, the means and covariance of the components\n",
    "model_d.startprob_ = startprob\n",
    "model_d.transmat_ = transmat\n",
    "model_d.means_ = means\n",
    "model_d.emissionprob_ = emissionprob\n",
    "###############################################################\n",
    "\n",
    "# Generate samples\n",
    "X, Z = model_d.sample(100000)\n"
   ]
  },
  {
   "cell_type": "code",
   "execution_count": 13,
   "metadata": {},
   "outputs": [
    {
     "name": "stdout",
     "output_type": "stream",
     "text": [
      "***********0***********\n",
      "Score of 0: -98924.91136907876\n",
      "New best -98924.91136907876\n",
      "H(Y_t+1) 1.5394374014517478\n",
      "H(Y_t+1|e_t 0.46270409447644634\n",
      "H(Y_t+1|Y_t) 0.676818308401014\n",
      "H(Y_t+1|E_t,Y_t) 0.125689486814894\n",
      "NTIC:0.5256044853891816\n",
      "J:0.55112882158612\n",
      "***********1***********\n"
     ]
    },
    {
     "name": "stderr",
     "output_type": "stream",
     "text": [
      "/usr/local/lib/python3.7/site-packages/ipykernel_launcher.py:11: RuntimeWarning: divide by zero encountered in log2\n",
      "  # This is added back by InteractiveShellApp.init_path()\n",
      "/usr/local/lib/python3.7/site-packages/ipykernel_launcher.py:11: RuntimeWarning: invalid value encountered in multiply\n",
      "  # This is added back by InteractiveShellApp.init_path()\n",
      "/usr/local/lib/python3.7/site-packages/ipykernel_launcher.py:10: RuntimeWarning: invalid value encountered in true_divide\n",
      "  # Remove the CWD from sys.path while we load stuff.\n"
     ]
    },
    {
     "name": "stdout",
     "output_type": "stream",
     "text": [
      "Score of 0: -107489.06279301779\n",
      "New best -107489.06279301779\n",
      "H(Y_t+1) 1.1851607092469183\n",
      "H(Y_t+1|e_t 0.6440177064125864\n",
      "H(Y_t+1|Y_t) 0.19922326321749653\n",
      "H(Y_t+1|E_t,Y_t) 0.11270703850103961\n",
      "NTIC:0.454626778117875\n",
      "J:0.08651622471645692\n",
      "***********2***********\n"
     ]
    },
    {
     "name": "stderr",
     "output_type": "stream",
     "text": [
      "/usr/local/lib/python3.7/site-packages/ipykernel_launcher.py:11: RuntimeWarning: divide by zero encountered in log2\n",
      "  # This is added back by InteractiveShellApp.init_path()\n",
      "/usr/local/lib/python3.7/site-packages/ipykernel_launcher.py:11: RuntimeWarning: invalid value encountered in multiply\n",
      "  # This is added back by InteractiveShellApp.init_path()\n",
      "/usr/local/lib/python3.7/site-packages/ipykernel_launcher.py:10: RuntimeWarning: invalid value encountered in true_divide\n",
      "  # Remove the CWD from sys.path while we load stuff.\n"
     ]
    },
    {
     "name": "stdout",
     "output_type": "stream",
     "text": [
      "Score of 0: -105885.32136236454\n",
      "New best -105885.32136236454\n",
      "H(Y_t+1) 1.0491938897437156\n",
      "H(Y_t+1|e_t 0.5073493404033057\n",
      "H(Y_t+1|Y_t) 0.04128058121466431\n",
      "H(Y_t+1|E_t,Y_t) 0.0224445557792571\n",
      "NTIC:0.5230085239050027\n",
      "J:0.01883602543540721\n",
      "***********3***********\n"
     ]
    },
    {
     "name": "stderr",
     "output_type": "stream",
     "text": [
      "/usr/local/lib/python3.7/site-packages/ipykernel_launcher.py:11: RuntimeWarning: divide by zero encountered in log2\n",
      "  # This is added back by InteractiveShellApp.init_path()\n",
      "/usr/local/lib/python3.7/site-packages/ipykernel_launcher.py:11: RuntimeWarning: invalid value encountered in multiply\n",
      "  # This is added back by InteractiveShellApp.init_path()\n",
      "/usr/local/lib/python3.7/site-packages/ipykernel_launcher.py:10: RuntimeWarning: invalid value encountered in true_divide\n",
      "  # Remove the CWD from sys.path while we load stuff.\n"
     ]
    },
    {
     "ename": "KeyboardInterrupt",
     "evalue": "",
     "output_type": "error",
     "traceback": [
      "\u001b[0;31m---------------------------------------------------------------------------\u001b[0m",
      "\u001b[0;31mKeyboardInterrupt\u001b[0m                         Traceback (most recent call last)",
      "\u001b[0;32m<ipython-input-13-6bfabe73e986>\u001b[0m in \u001b[0;36m<module>\u001b[0;34m\u001b[0m\n\u001b[1;32m      5\u001b[0m \u001b[0;32mfor\u001b[0m \u001b[0mi\u001b[0m \u001b[0;32min\u001b[0m \u001b[0mrange\u001b[0m\u001b[0;34m(\u001b[0m\u001b[0;36m30\u001b[0m\u001b[0;34m)\u001b[0m\u001b[0;34m:\u001b[0m\u001b[0;34m\u001b[0m\u001b[0;34m\u001b[0m\u001b[0m\n\u001b[1;32m      6\u001b[0m     \u001b[0mprint\u001b[0m\u001b[0;34m(\u001b[0m\u001b[0;34m'***********{}***********'\u001b[0m\u001b[0;34m.\u001b[0m\u001b[0mformat\u001b[0m\u001b[0;34m(\u001b[0m\u001b[0mi\u001b[0m\u001b[0;34m)\u001b[0m\u001b[0;34m)\u001b[0m\u001b[0;34m\u001b[0m\u001b[0;34m\u001b[0m\u001b[0m\n\u001b[0;32m----> 7\u001b[0;31m     \u001b[0mmod\u001b[0m\u001b[0;34m,\u001b[0m\u001b[0msc\u001b[0m \u001b[0;34m=\u001b[0m \u001b[0mrun_trials\u001b[0m\u001b[0;34m(\u001b[0m\u001b[0mX\u001b[0m\u001b[0;34m,\u001b[0m\u001b[0mnum\u001b[0m\u001b[0;34m=\u001b[0m\u001b[0;36m1\u001b[0m\u001b[0;34m,\u001b[0m\u001b[0mnum_comp\u001b[0m\u001b[0;34m=\u001b[0m\u001b[0;36m3\u001b[0m\u001b[0;34m)\u001b[0m\u001b[0;34m\u001b[0m\u001b[0;34m\u001b[0m\u001b[0m\n\u001b[0m\u001b[1;32m      8\u001b[0m     \u001b[0mpxpypz\u001b[0m \u001b[0;34m=\u001b[0m \u001b[0mmake_pxpypz\u001b[0m\u001b[0;34m(\u001b[0m\u001b[0mX\u001b[0m\u001b[0;34m,\u001b[0m \u001b[0mmod\u001b[0m\u001b[0;34m)\u001b[0m\u001b[0;34m\u001b[0m\u001b[0;34m\u001b[0m\u001b[0m\n\u001b[1;32m      9\u001b[0m     \u001b[0mnt\u001b[0m\u001b[0;34m,\u001b[0m\u001b[0mj\u001b[0m \u001b[0;34m=\u001b[0m \u001b[0mntic\u001b[0m\u001b[0;34m(\u001b[0m\u001b[0mpxpypz\u001b[0m\u001b[0;34m)\u001b[0m\u001b[0;34m\u001b[0m\u001b[0;34m\u001b[0m\u001b[0m\n",
      "\u001b[0;32m<ipython-input-5-57f4b370d26c>\u001b[0m in \u001b[0;36mrun_trials\u001b[0;34m(X, num, num_comp)\u001b[0m\n\u001b[1;32m      5\u001b[0m     \u001b[0;32mfor\u001b[0m \u001b[0mi\u001b[0m \u001b[0;32min\u001b[0m \u001b[0mrange\u001b[0m\u001b[0;34m(\u001b[0m\u001b[0mnum\u001b[0m\u001b[0;34m)\u001b[0m\u001b[0;34m:\u001b[0m\u001b[0;34m\u001b[0m\u001b[0;34m\u001b[0m\u001b[0m\n\u001b[1;32m      6\u001b[0m         \u001b[0mmod\u001b[0m \u001b[0;34m=\u001b[0m \u001b[0mhmm\u001b[0m\u001b[0;34m.\u001b[0m\u001b[0mMultinomialHMM\u001b[0m\u001b[0;34m(\u001b[0m\u001b[0mn_components\u001b[0m\u001b[0;34m=\u001b[0m\u001b[0mnum_comp\u001b[0m\u001b[0;34m)\u001b[0m\u001b[0;34m\u001b[0m\u001b[0;34m\u001b[0m\u001b[0m\n\u001b[0;32m----> 7\u001b[0;31m         \u001b[0mmod\u001b[0m\u001b[0;34m.\u001b[0m\u001b[0mfit\u001b[0m\u001b[0;34m(\u001b[0m\u001b[0mX\u001b[0m\u001b[0;34m)\u001b[0m\u001b[0;34m\u001b[0m\u001b[0;34m\u001b[0m\u001b[0m\n\u001b[0m\u001b[1;32m      8\u001b[0m         \u001b[0msc\u001b[0m \u001b[0;34m=\u001b[0m \u001b[0mmod\u001b[0m\u001b[0;34m.\u001b[0m\u001b[0mscore\u001b[0m\u001b[0;34m(\u001b[0m\u001b[0mX\u001b[0m\u001b[0;34m)\u001b[0m\u001b[0;34m\u001b[0m\u001b[0;34m\u001b[0m\u001b[0m\n\u001b[1;32m      9\u001b[0m         \u001b[0mprint\u001b[0m\u001b[0;34m(\u001b[0m\u001b[0;34m'Score of {}:'\u001b[0m\u001b[0;34m.\u001b[0m\u001b[0mformat\u001b[0m\u001b[0;34m(\u001b[0m\u001b[0mi\u001b[0m\u001b[0;34m)\u001b[0m\u001b[0;34m,\u001b[0m\u001b[0msc\u001b[0m\u001b[0;34m)\u001b[0m\u001b[0;34m\u001b[0m\u001b[0;34m\u001b[0m\u001b[0m\n",
      "\u001b[0;32m/usr/local/lib/python3.7/site-packages/hmmlearn/base.py\u001b[0m in \u001b[0;36mfit\u001b[0;34m(self, X, lengths)\u001b[0m\n\u001b[1;32m    476\u001b[0m                 self._accumulate_sufficient_statistics(\n\u001b[1;32m    477\u001b[0m                     \u001b[0mstats\u001b[0m\u001b[0;34m,\u001b[0m \u001b[0mX\u001b[0m\u001b[0;34m[\u001b[0m\u001b[0mi\u001b[0m\u001b[0;34m:\u001b[0m\u001b[0mj\u001b[0m\u001b[0;34m]\u001b[0m\u001b[0;34m,\u001b[0m \u001b[0mframelogprob\u001b[0m\u001b[0;34m,\u001b[0m \u001b[0mposteriors\u001b[0m\u001b[0;34m,\u001b[0m \u001b[0mfwdlattice\u001b[0m\u001b[0;34m,\u001b[0m\u001b[0;34m\u001b[0m\u001b[0;34m\u001b[0m\u001b[0m\n\u001b[0;32m--> 478\u001b[0;31m                     bwdlattice)\n\u001b[0m\u001b[1;32m    479\u001b[0m \u001b[0;34m\u001b[0m\u001b[0m\n\u001b[1;32m    480\u001b[0m             \u001b[0;31m# XXX must be before convergence check, because otherwise\u001b[0m\u001b[0;34m\u001b[0m\u001b[0;34m\u001b[0m\u001b[0;34m\u001b[0m\u001b[0m\n",
      "\u001b[0;32m/usr/local/lib/python3.7/site-packages/hmmlearn/hmm.py\u001b[0m in \u001b[0;36m_accumulate_sufficient_statistics\u001b[0;34m(self, stats, X, framelogprob, posteriors, fwdlattice, bwdlattice)\u001b[0m\n\u001b[1;32m    428\u001b[0m         \u001b[0;32mif\u001b[0m \u001b[0;34m'e'\u001b[0m \u001b[0;32min\u001b[0m \u001b[0mself\u001b[0m\u001b[0;34m.\u001b[0m\u001b[0mparams\u001b[0m\u001b[0;34m:\u001b[0m\u001b[0;34m\u001b[0m\u001b[0;34m\u001b[0m\u001b[0m\n\u001b[1;32m    429\u001b[0m             \u001b[0;32mfor\u001b[0m \u001b[0mt\u001b[0m\u001b[0;34m,\u001b[0m \u001b[0msymbol\u001b[0m \u001b[0;32min\u001b[0m \u001b[0menumerate\u001b[0m\u001b[0;34m(\u001b[0m\u001b[0mnp\u001b[0m\u001b[0;34m.\u001b[0m\u001b[0mconcatenate\u001b[0m\u001b[0;34m(\u001b[0m\u001b[0mX\u001b[0m\u001b[0;34m)\u001b[0m\u001b[0;34m)\u001b[0m\u001b[0;34m:\u001b[0m\u001b[0;34m\u001b[0m\u001b[0;34m\u001b[0m\u001b[0m\n\u001b[0;32m--> 430\u001b[0;31m                 \u001b[0mstats\u001b[0m\u001b[0;34m[\u001b[0m\u001b[0;34m'obs'\u001b[0m\u001b[0;34m]\u001b[0m\u001b[0;34m[\u001b[0m\u001b[0;34m:\u001b[0m\u001b[0;34m,\u001b[0m \u001b[0msymbol\u001b[0m\u001b[0;34m]\u001b[0m \u001b[0;34m+=\u001b[0m \u001b[0mposteriors\u001b[0m\u001b[0;34m[\u001b[0m\u001b[0mt\u001b[0m\u001b[0;34m]\u001b[0m\u001b[0;34m\u001b[0m\u001b[0;34m\u001b[0m\u001b[0m\n\u001b[0m\u001b[1;32m    431\u001b[0m \u001b[0;34m\u001b[0m\u001b[0m\n\u001b[1;32m    432\u001b[0m     \u001b[0;32mdef\u001b[0m \u001b[0m_do_mstep\u001b[0m\u001b[0;34m(\u001b[0m\u001b[0mself\u001b[0m\u001b[0;34m,\u001b[0m \u001b[0mstats\u001b[0m\u001b[0;34m)\u001b[0m\u001b[0;34m:\u001b[0m\u001b[0;34m\u001b[0m\u001b[0;34m\u001b[0m\u001b[0m\n",
      "\u001b[0;31mKeyboardInterrupt\u001b[0m: "
     ]
    }
   ],
   "source": [
    "ntic_l = []\n",
    "j_l = []\n",
    "sc_l = []\n",
    "#run experiment\n",
    "for i in range(30):\n",
    "    print('***********{}***********'.format(i))\n",
    "    mod,sc = run_trials(X,num=1,num_comp=3)\n",
    "    pxpypz = make_pxpypz(X, mod)\n",
    "    nt,j = ntic(pxpypz)\n",
    "    ntic_l.append(nt)\n",
    "    j_l.append(j)\n",
    "    sc_l.append(sc)\n",
    "    print('NTIC:{}\\nJ:{}'.format(nt,j))"
   ]
  },
  {
   "cell_type": "code",
   "execution_count": 14,
   "metadata": {},
   "outputs": [
    {
     "name": "stdout",
     "output_type": "stream",
     "text": [
      "3\n",
      "[0.5256044853891816, 0.454626778117875, 0.5230085239050027]\n"
     ]
    },
    {
     "data": {
      "image/png": "[encoded data removed]",
      "text/plain": [
       "<Figure size 432x288 with 1 Axes>"
      ]
     },
     "metadata": {
      "needs_background": "light"
     },
     "output_type": "display_data"
    },
    {
     "data": {
      "text/plain": [
       "Text(0.5, 0, 'Log-likelihood Score')"
      ]
     },
     "execution_count": 14,
     "metadata": {},
     "output_type": "execute_result"
    },
    {
     "data": {
      "image/png": "[encoded data removed]",
      "text/plain": [
       "<Figure size 432x288 with 1 Axes>"
      ]
     },
     "metadata": {
      "needs_background": "light"
     },
     "output_type": "display_data"
    }
   ],
   "source": [
    "print(len(ntic_l))\n",
    "\n",
    "print(ntic_l)\n",
    "plt.scatter(ntic_l,j_l)\n",
    "plt.xlabel('NTIC')\n",
    "plt.ylabel('Flow')\n",
    "plt.show()\n",
    "\n",
    "plt.scatter(sc_l,ntic_l)\n",
    "plt.ylabel('NTIC')\n",
    "plt.xlabel('Log-likelihood Score')"
   ]
  },
  {
   "cell_type": "markdown",
   "metadata": {},
   "source": [
    "# Layout\n",
    "\n",
    "The environment is modelled as a hidden markov model which starts with the state $E_t$. Where the next state $E_{t+1}$ is a distribution determined from the transfer matrix $T$ via:\n",
    "\n",
    "$$E_{t+1} = E_tT$$\n",
    "\n",
    "Since this state isn't observable, the 'hidden' state emits observations through the emission matrix $Z$. Thus:\n",
    "\n",
    "$$e_{t+1} = E_tTZ$$\n",
    "\n",
    "and finally the joint distribution is \n",
    "\n",
    "$$e_{t+1} = e_tZ^TTZ$$\n",
    "\n",
    "$e_t$ is the environmental observation at time t\n",
    "\n",
    "$e_{t+1}$ is the enviso\n",
    "\n"
   ]
  },
  {
   "cell_type": "markdown",
   "metadata": {},
   "source": [
    "# Modelling the environment\n",
    "\n",
    "We assume that there system $Y$ which attempts to model the environment through only the perceived observations. Thus, the system tries to fit the function:\n",
    "\n",
    "$$f(e_t) = \\hat{e}_{t+1}$$\n",
    "\n",
    "While this seems to be a function of strictly the previous \n",
    "\n",
    "\n",
    "# Showing as it is control theory\n",
    "\n",
    "$$\\dot{X_t} = AX + BU$$\n"
   ]
  },
  {
   "cell_type": "markdown",
   "metadata": {},
   "source": [
    "# Get 3 variable joint distr"
   ]
  },
  {
   "cell_type": "code",
   "execution_count": 52,
   "metadata": {},
   "outputs": [],
   "source": [
    "##############################################################\n",
    "# Prepare parameters for a 4-components HMM\n",
    "# Initial population probability\n",
    "startprob = np.array([1, 0, 0, 0])\n",
    "# The transition matrix, note that there are no transitions possible\n",
    "# between component 1 and 3\n",
    "transmat = np.array([[0, 0, 0, 1],\n",
    "                     [0, 1, 0, 0],\n",
    "                     [0, 0, 1, 0],\n",
    "                     [0, 0, 0, 1]])\n",
    "# The means of each component\n",
    "means = np.array([[0.0,  0.0],\n",
    "                  [0.0, 10.0],\n",
    "                  [10.0, 10.0],\n",
    "                  [10.0, 0.0]])\n",
    "# The covariance of each component\n",
    "# Sampling for the observing model\n",
    "# covars = .1 * np.tile(np.identity(2), (4, 1, 1))\n",
    "\n",
    "#Probability of emitting value from a given state\n",
    "# n_components,n_features\n",
    "r_corr = 1\n",
    "emissionprob = np.array([[r_corr, 1 - r_corr, 0, 0],\n",
    "                        [0, r_corr, 1 - r_corr, 0],\n",
    "                        [0, 0, r_corr, 1 - r_corr],\n",
    "                        [1 - r_corr, 0, 0, r_corr]])\n",
    "\n",
    "# Build an HMM instance and set parameters\n",
    "model_d2 = hmm.MultinomialHMM(n_components=4)\n",
    "\n",
    "# Instead of fitting it from the data, we directly set the estimated\n",
    "# parameters, the means and covariance of the components\n",
    "model_d2.startprob_ = startprob\n",
    "model_d2.transmat_ = transmat\n",
    "model_d2.means_ = means\n",
    "model_d2.emissionprob_ = emissionprob\n",
    "###############################################################\n",
    "\n",
    "# Generate samples\n",
    "X, Z = model_d2.sample(100000)"
   ]
  },
  {
   "cell_type": "code",
   "execution_count": 49,
   "metadata": {},
   "outputs": [],
   "source": [
    "#Estimate it\n",
    "q = np.vstack([X[:,0],Z])\n",
    "model_d_est = hmm.MultinomialHMM(n_components=8)\n",
    "# model_d2_est.fit(q)"
   ]
  },
  {
   "cell_type": "code",
   "execution_count": 51,
   "metadata": {},
   "outputs": [
    {
     "ename": "NotFittedError",
     "evalue": "This MultinomialHMM instance is not fitted yet. Call 'fit' with appropriate arguments before using this method.",
     "output_type": "error",
     "traceback": [
      "\u001b[0;31m---------------------------------------------------------------------------\u001b[0m",
      "\u001b[0;31mNotFittedError\u001b[0m                            Traceback (most recent call last)",
      "\u001b[0;32m<ipython-input-51-30510360b88a>\u001b[0m in \u001b[0;36m<module>\u001b[0;34m\u001b[0m\n\u001b[1;32m      4\u001b[0m \u001b[0mst\u001b[0m \u001b[0;34m=\u001b[0m \u001b[0;36m0\u001b[0m\u001b[0;34m\u001b[0m\u001b[0;34m\u001b[0m\u001b[0m\n\u001b[1;32m      5\u001b[0m \u001b[0;34m\u001b[0m\u001b[0m\n\u001b[0;32m----> 6\u001b[0;31m \u001b[0mprint\u001b[0m\u001b[0;34m(\u001b[0m\u001b[0mmodel_d_est\u001b[0m\u001b[0;34m.\u001b[0m\u001b[0mpredict\u001b[0m\u001b[0;34m(\u001b[0m\u001b[0;34m[\u001b[0m\u001b[0;34m[\u001b[0m\u001b[0mst\u001b[0m\u001b[0;34m]\u001b[0m\u001b[0;34m]\u001b[0m\u001b[0;34m)\u001b[0m\u001b[0;34m)\u001b[0m\u001b[0;34m\u001b[0m\u001b[0;34m\u001b[0m\u001b[0m\n\u001b[0m\u001b[1;32m      7\u001b[0m \u001b[0;34m\u001b[0m\u001b[0m\n\u001b[1;32m      8\u001b[0m \u001b[0;31m#Predict posterior probability for each state, should be trans mat of 1\u001b[0m\u001b[0;34m\u001b[0m\u001b[0;34m\u001b[0m\u001b[0;34m\u001b[0m\u001b[0m\n",
      "\u001b[0;32m/usr/local/lib/python3.7/site-packages/hmmlearn/base.py\u001b[0m in \u001b[0;36mpredict\u001b[0;34m(self, X, lengths)\u001b[0m\n\u001b[1;32m    373\u001b[0m             \u001b[0mLabels\u001b[0m \u001b[0;32mfor\u001b[0m \u001b[0meach\u001b[0m \u001b[0msample\u001b[0m \u001b[0;32mfrom\u001b[0m\u001b[0;31m \u001b[0m\u001b[0;31m`\u001b[0m\u001b[0;31m`\u001b[0m\u001b[0mX\u001b[0m\u001b[0;31m`\u001b[0m\u001b[0;31m`\u001b[0m\u001b[0;34m.\u001b[0m\u001b[0;34m\u001b[0m\u001b[0;34m\u001b[0m\u001b[0m\n\u001b[1;32m    374\u001b[0m         \"\"\"\n\u001b[0;32m--> 375\u001b[0;31m         \u001b[0m_\u001b[0m\u001b[0;34m,\u001b[0m \u001b[0mstate_sequence\u001b[0m \u001b[0;34m=\u001b[0m \u001b[0mself\u001b[0m\u001b[0;34m.\u001b[0m\u001b[0mdecode\u001b[0m\u001b[0;34m(\u001b[0m\u001b[0mX\u001b[0m\u001b[0;34m,\u001b[0m \u001b[0mlengths\u001b[0m\u001b[0;34m)\u001b[0m\u001b[0;34m\u001b[0m\u001b[0;34m\u001b[0m\u001b[0m\n\u001b[0m\u001b[1;32m    376\u001b[0m         \u001b[0;32mreturn\u001b[0m \u001b[0mstate_sequence\u001b[0m\u001b[0;34m\u001b[0m\u001b[0;34m\u001b[0m\u001b[0m\n\u001b[1;32m    377\u001b[0m \u001b[0;34m\u001b[0m\u001b[0m\n",
      "\u001b[0;32m/usr/local/lib/python3.7/site-packages/hmmlearn/base.py\u001b[0m in \u001b[0;36mdecode\u001b[0;34m(self, X, lengths, algorithm)\u001b[0m\n\u001b[1;32m    332\u001b[0m         \u001b[0mscore\u001b[0m \u001b[0;34m:\u001b[0m \u001b[0mCompute\u001b[0m \u001b[0mthe\u001b[0m \u001b[0mlog\u001b[0m \u001b[0mprobability\u001b[0m \u001b[0munder\u001b[0m \u001b[0mthe\u001b[0m \u001b[0mmodel\u001b[0m\u001b[0;34m.\u001b[0m\u001b[0;34m\u001b[0m\u001b[0;34m\u001b[0m\u001b[0m\n\u001b[1;32m    333\u001b[0m         \"\"\"\n\u001b[0;32m--> 334\u001b[0;31m         \u001b[0mcheck_is_fitted\u001b[0m\u001b[0;34m(\u001b[0m\u001b[0mself\u001b[0m\u001b[0;34m,\u001b[0m \u001b[0;34m\"startprob_\"\u001b[0m\u001b[0;34m)\u001b[0m\u001b[0;34m\u001b[0m\u001b[0;34m\u001b[0m\u001b[0m\n\u001b[0m\u001b[1;32m    335\u001b[0m         \u001b[0mself\u001b[0m\u001b[0;34m.\u001b[0m\u001b[0m_check\u001b[0m\u001b[0;34m(\u001b[0m\u001b[0;34m)\u001b[0m\u001b[0;34m\u001b[0m\u001b[0;34m\u001b[0m\u001b[0m\n\u001b[1;32m    336\u001b[0m \u001b[0;34m\u001b[0m\u001b[0m\n",
      "\u001b[0;32m/usr/local/lib/python3.7/site-packages/sklearn/utils/validation.py\u001b[0m in \u001b[0;36mcheck_is_fitted\u001b[0;34m(estimator, attributes, msg, all_or_any)\u001b[0m\n\u001b[1;32m    912\u001b[0m \u001b[0;34m\u001b[0m\u001b[0m\n\u001b[1;32m    913\u001b[0m     \u001b[0;32mif\u001b[0m \u001b[0;32mnot\u001b[0m \u001b[0mall_or_any\u001b[0m\u001b[0;34m(\u001b[0m\u001b[0;34m[\u001b[0m\u001b[0mhasattr\u001b[0m\u001b[0;34m(\u001b[0m\u001b[0mestimator\u001b[0m\u001b[0;34m,\u001b[0m \u001b[0mattr\u001b[0m\u001b[0;34m)\u001b[0m \u001b[0;32mfor\u001b[0m \u001b[0mattr\u001b[0m \u001b[0;32min\u001b[0m \u001b[0mattributes\u001b[0m\u001b[0;34m]\u001b[0m\u001b[0;34m)\u001b[0m\u001b[0;34m:\u001b[0m\u001b[0;34m\u001b[0m\u001b[0;34m\u001b[0m\u001b[0m\n\u001b[0;32m--> 914\u001b[0;31m         \u001b[0;32mraise\u001b[0m \u001b[0mNotFittedError\u001b[0m\u001b[0;34m(\u001b[0m\u001b[0mmsg\u001b[0m \u001b[0;34m%\u001b[0m \u001b[0;34m{\u001b[0m\u001b[0;34m'name'\u001b[0m\u001b[0;34m:\u001b[0m \u001b[0mtype\u001b[0m\u001b[0;34m(\u001b[0m\u001b[0mestimator\u001b[0m\u001b[0;34m)\u001b[0m\u001b[0;34m.\u001b[0m\u001b[0m__name__\u001b[0m\u001b[0;34m}\u001b[0m\u001b[0;34m)\u001b[0m\u001b[0;34m\u001b[0m\u001b[0;34m\u001b[0m\u001b[0m\n\u001b[0m\u001b[1;32m    915\u001b[0m \u001b[0;34m\u001b[0m\u001b[0m\n\u001b[1;32m    916\u001b[0m \u001b[0;34m\u001b[0m\u001b[0m\n",
      "\u001b[0;31mNotFittedError\u001b[0m: This MultinomialHMM instance is not fitted yet. Call 'fit' with appropriate arguments before using this method."
     ]
    }
   ],
   "source": [
    "\n",
    "# print(X)\n",
    "\n",
    "st = 0\n",
    "\n",
    "print(model_d_est.predict([[st]]))\n",
    "\n",
    "#Predict posterior probability for each state, should be trans mat of 1\n",
    "print(model_d_est.predict_proba([[st]]))\n",
    "\n",
    "model_d_est.sample()\n",
    "\n",
    "print('transmat',model_d_est.transmat_)\n",
    "\n",
    "print('Testing here:')\n",
    "#We assume the estimated model is our \"Agent\"\n",
    "for i in range(X.shape[0]):\n",
    "    #current observation given the previous observation\n",
    "    obsv_g_env = model_d_est.predict([[Z[i-1,0]]])\n",
    "    \n",
    "    obsv_g_env_ag\n",
    "    print('step {}: \\tstate - {}\\tobsv - {} '.format(i,X[i,0],Z[i]))\n",
    "    \n",
    "    if i > 100:\n",
    "        break\n",
    "# print(q[:20])"
   ]
  },
  {
   "cell_type": "markdown",
   "metadata": {},
   "source": [
    "# Notes\n",
    "\n",
    "Information is non-trivial if the system state can predict the environment, sharing mutual information:\n",
    "$$I(Y_{t+t};E_t) >0$$\n",
    "\n"
   ]
  },
  {
   "cell_type": "code",
   "execution_count": null,
   "metadata": {},
   "outputs": [],
   "source": []
  },
  {
   "cell_type": "code",
   "execution_count": null,
   "metadata": {},
   "outputs": [],
   "source": []
  },
  {
   "cell_type": "markdown",
   "metadata": {},
   "source": [
    "# Pytorch LSTM\n"
   ]
  },
  {
   "cell_type": "code",
   "execution_count": 20,
   "metadata": {},
   "outputs": [],
   "source": [
    "import torch\n",
    "import torch.nn as nn\n",
    "import torch.nn.functional as F\n",
    "import torch.optim as optim\n",
    "# torch.set_default_tensor_type('torch.LongTensor')"
   ]
  },
  {
   "cell_type": "code",
   "execution_count": 21,
   "metadata": {},
   "outputs": [
    {
     "data": {
      "text/plain": [
       "(9999,)"
      ]
     },
     "execution_count": 21,
     "metadata": {},
     "output_type": "execute_result"
    }
   ],
   "source": [
    "q[0,:-1].shape"
   ]
  },
  {
   "cell_type": "code",
   "execution_count": 23,
   "metadata": {},
   "outputs": [
    {
     "name": "stdout",
     "output_type": "stream",
     "text": [
      "(9999,)\n",
      "X torch.Size([9999, 1, 4]) torch.FloatTensor\n",
      "Y torch.Size([9999, 1]) torch.LongTensor\n",
      "Training\n",
      "Epoch  0 Cross Entropy: 1.3862110376358032\n",
      "Epoch  5 Cross Entropy: 1.3809031248092651\n",
      "Epoch  10 Cross Entropy: 1.376273274421692\n",
      "Epoch  15 Cross Entropy: 1.370802402496338\n",
      "Epoch  20 Cross Entropy: 1.3638666868209839\n"
     ]
    },
    {
     "ename": "KeyboardInterrupt",
     "evalue": "",
     "output_type": "error",
     "traceback": [
      "\u001b[0;31m---------------------------------------------------------------------------\u001b[0m",
      "\u001b[0;31mKeyboardInterrupt\u001b[0m                         Traceback (most recent call last)",
      "\u001b[0;32m<ipython-input-23-c66e278f5fa2>\u001b[0m in \u001b[0;36m<module>\u001b[0;34m\u001b[0m\n\u001b[1;32m     54\u001b[0m     \u001b[0mopt\u001b[0m\u001b[0;34m.\u001b[0m\u001b[0mzero_grad\u001b[0m\u001b[0;34m(\u001b[0m\u001b[0;34m)\u001b[0m\u001b[0;34m\u001b[0m\u001b[0;34m\u001b[0m\u001b[0m\n\u001b[1;32m     55\u001b[0m \u001b[0;34m\u001b[0m\u001b[0m\n\u001b[0;32m---> 56\u001b[0;31m     \u001b[0mloss\u001b[0m\u001b[0;34m.\u001b[0m\u001b[0mbackward\u001b[0m\u001b[0;34m(\u001b[0m\u001b[0mretain_graph\u001b[0m\u001b[0;34m=\u001b[0m\u001b[0;32mTrue\u001b[0m\u001b[0;34m)\u001b[0m\u001b[0;34m\u001b[0m\u001b[0;34m\u001b[0m\u001b[0m\n\u001b[0m\u001b[1;32m     57\u001b[0m \u001b[0;34m\u001b[0m\u001b[0m\n\u001b[1;32m     58\u001b[0m     \u001b[0mopt\u001b[0m\u001b[0;34m.\u001b[0m\u001b[0mstep\u001b[0m\u001b[0;34m(\u001b[0m\u001b[0;34m)\u001b[0m\u001b[0;34m\u001b[0m\u001b[0;34m\u001b[0m\u001b[0m\n",
      "\u001b[0;32m/usr/local/lib/python3.7/site-packages/torch/tensor.py\u001b[0m in \u001b[0;36mbackward\u001b[0;34m(self, gradient, retain_graph, create_graph)\u001b[0m\n\u001b[1;32m    116\u001b[0m                 \u001b[0mproducts\u001b[0m\u001b[0;34m.\u001b[0m \u001b[0mDefaults\u001b[0m \u001b[0mto\u001b[0m\u001b[0;31m \u001b[0m\u001b[0;31m`\u001b[0m\u001b[0;31m`\u001b[0m\u001b[0;32mFalse\u001b[0m\u001b[0;31m`\u001b[0m\u001b[0;31m`\u001b[0m\u001b[0;34m.\u001b[0m\u001b[0;34m\u001b[0m\u001b[0;34m\u001b[0m\u001b[0m\n\u001b[1;32m    117\u001b[0m         \"\"\"\n\u001b[0;32m--> 118\u001b[0;31m         \u001b[0mtorch\u001b[0m\u001b[0;34m.\u001b[0m\u001b[0mautograd\u001b[0m\u001b[0;34m.\u001b[0m\u001b[0mbackward\u001b[0m\u001b[0;34m(\u001b[0m\u001b[0mself\u001b[0m\u001b[0;34m,\u001b[0m \u001b[0mgradient\u001b[0m\u001b[0;34m,\u001b[0m \u001b[0mretain_graph\u001b[0m\u001b[0;34m,\u001b[0m \u001b[0mcreate_graph\u001b[0m\u001b[0;34m)\u001b[0m\u001b[0;34m\u001b[0m\u001b[0;34m\u001b[0m\u001b[0m\n\u001b[0m\u001b[1;32m    119\u001b[0m \u001b[0;34m\u001b[0m\u001b[0m\n\u001b[1;32m    120\u001b[0m     \u001b[0;32mdef\u001b[0m \u001b[0mregister_hook\u001b[0m\u001b[0;34m(\u001b[0m\u001b[0mself\u001b[0m\u001b[0;34m,\u001b[0m \u001b[0mhook\u001b[0m\u001b[0;34m)\u001b[0m\u001b[0;34m:\u001b[0m\u001b[0;34m\u001b[0m\u001b[0;34m\u001b[0m\u001b[0m\n",
      "\u001b[0;32m/usr/local/lib/python3.7/site-packages/torch/autograd/__init__.py\u001b[0m in \u001b[0;36mbackward\u001b[0;34m(tensors, grad_tensors, retain_graph, create_graph, grad_variables)\u001b[0m\n\u001b[1;32m     91\u001b[0m     Variable._execution_engine.run_backward(\n\u001b[1;32m     92\u001b[0m         \u001b[0mtensors\u001b[0m\u001b[0;34m,\u001b[0m \u001b[0mgrad_tensors\u001b[0m\u001b[0;34m,\u001b[0m \u001b[0mretain_graph\u001b[0m\u001b[0;34m,\u001b[0m \u001b[0mcreate_graph\u001b[0m\u001b[0;34m,\u001b[0m\u001b[0;34m\u001b[0m\u001b[0;34m\u001b[0m\u001b[0m\n\u001b[0;32m---> 93\u001b[0;31m         allow_unreachable=True)  # allow_unreachable flag\n\u001b[0m\u001b[1;32m     94\u001b[0m \u001b[0;34m\u001b[0m\u001b[0m\n\u001b[1;32m     95\u001b[0m \u001b[0;34m\u001b[0m\u001b[0m\n",
      "\u001b[0;31mKeyboardInterrupt\u001b[0m: "
     ]
    }
   ],
   "source": [
    "#Here we actuall do it right\n",
    "num_epochs = 1000\n",
    "def one_hot(a):\n",
    "    '''takes in 1d np, gives out one hot\n",
    "    [0] = [1 0 0 0]\n",
    "    [3] = [0 0 0 1]'''\n",
    "    print(a.shape)\n",
    "    b = np.zeros((a.size, a.max()+1))\n",
    "    b[np.arange(a.size),a] = 1\n",
    "    return b\n",
    "\n",
    "#Assuming we have X_t, predict X_t+1\n",
    "q = np.array(X.T)\n",
    "x_train = q[0,:-1]\n",
    "y_train = q[0,1:]\n",
    "x_train = one_hot(x_train)\n",
    "# y_train = one_hot(y_train)\n",
    "\n",
    "x_train = np.expand_dims(x_train,1)\n",
    "y_train = np.expand_dims(y_train,1)\n",
    "\n",
    "\n",
    "x_train = torch.from_numpy(x_train).float()\n",
    "y_train = torch.from_numpy(y_train).long()\n",
    "\n",
    "#We need samples, batch, in_shape\n",
    "print(\"X\",x_train.shape, x_train.type())\n",
    "print(\"Y\",y_train.shape, y_train.type())\n",
    "\n",
    "#Stuff\n",
    "mod = nn.LSTM(4,4)\n",
    "mod2 = nn.Linear(4,4)\n",
    "sig = nn.Sigmoid()\n",
    "loss_fn = nn.CrossEntropyLoss()\n",
    "opt = torch.optim.Adam(mod.parameters(),lr=.01)\n",
    "\n",
    "weights = None\n",
    "\n",
    "#Train\n",
    "print('Training')\n",
    "for t in range(num_epochs):\n",
    "    mod.zero_grad()\n",
    "    \n",
    "#     tlstm.hidden = tlstm.init_hidden()\n",
    "    \n",
    "    #Forward\n",
    "    y_pred, weights  = mod(x_train,weights)\n",
    "    y_pred = sig(y_pred)\n",
    "#     y_pred = mod2(y_pred)\n",
    "#     print('y_train',y_train[:,0].shape,y_train.type())\n",
    "#     print('y_pred',y_pred[:,0,:].shape,y_pred.type())\n",
    "    loss= loss_fn(y_pred[:,0,:],y_train[:,0])\n",
    "    \n",
    "    opt.zero_grad()\n",
    "    \n",
    "    loss.backward(retain_graph=True)\n",
    "    \n",
    "    opt.step()\n",
    "    \n",
    "    if t%5 == 0:\n",
    "        print(\"Epoch \", t, \"Cross Entropy:\",loss.item())\n",
    "\n",
    "\n",
    "\n",
    "# tout = np.sin(tinp)\n",
    "# tout = np.expand_dims(tout,-1)\n",
    "# tout = np.expand_dims(tout,-1)\n",
    "# # tout = np.expand_dims(tout,-1)\n",
    "# tout = torch.from_numpy(tout).float()\n",
    "\n",
    "# # loss = nn.CrossEntropyLoss()\n",
    "# loss_fn = nn.MSELoss()\n",
    "# o\n",
    "\n",
    "# print(opt)\n",
    "# print(tin.shape,tout.shape)\n",
    "# print(tin.type(),tout.type())\n",
    "\n",
    "# for t in range(num_epochs):\n",
    "#     tlstm.zero_grad()\n",
    "    \n",
    "# #     tlstm.hidden = tlstm.init_hidden()\n",
    "    \n",
    "#     #Forward\n",
    "#     y_pred, _ = tlstm(tin)\n",
    "#     loss = loss_fn(y_pred,tout)\n",
    "    \n",
    "#     opt.zero_grad()\n",
    "    \n",
    "#     loss.backward()\n",
    "    \n",
    "#     opt.step()\n",
    "    \n",
    "#     if t%100 == 0:\n",
    "#         print(\"Epoch \", t, \"MSE:\",loss.item())\n",
    "\n",
    "# out = loss(tin,tout)\n",
    "# print(out)\n",
    "# out.backward()\n",
    "\n",
    "#out,hidden = tlstm(tin)\n",
    "# print(tout)"
   ]
  },
  {
   "cell_type": "code",
   "execution_count": null,
   "metadata": {},
   "outputs": [],
   "source": [
    "print(x_train.shape)"
   ]
  },
  {
   "cell_type": "code",
   "execution_count": 26,
   "metadata": {},
   "outputs": [],
   "source": [
    "\n",
    "# y_pred, weights  = mod(x_train[0].unsqueeze(0))\n",
    "\n",
    "# #Store yt+1,y,e\n",
    "# y1ye = np.zeros((4,4,4))\n",
    "\n",
    "# for i in range(x_train.shape[0]):\n",
    "#     #Predict one\n",
    "#     y_pred, weights  = mod(x_train[i].unsqueeze(0))\n",
    "#     y_pred = sig(y_pred)\n",
    "    \n",
    "#     y_pred = np.argmax(y_pred.detach().numpy()[0,0])\n",
    "#     x_cur = np.argmax(x_train[i].numpy()[0])\n",
    "    \n",
    "#     if i > 0 and i < x_train.shape[0] -1:\n",
    "#         print('y1',y_pred,'y',y, 'e',x_cur )\n",
    "#     y = y_pred\n",
    "        \n",
    "def make_pxpypz_nn(x_train, mod, weight_flag = True):\n",
    "    y_pred, weights  = mod(x_train[0].unsqueeze(0))\n",
    "\n",
    "    #Store yt+1,y,e\n",
    "    y1ye = np.zeros((4,4,4))\n",
    "\n",
    "    for i in range(x_train.shape[0]):\n",
    "        #Predict one\n",
    "        if weight_flag:\n",
    "            y_pred, weights  = mod(x_train[i].unsqueeze(0),weights)\n",
    "        else:\n",
    "            y_pred, weights  = mod(x_train[i].unsqueeze(0))\n",
    "        \n",
    "        y_pred = sig(y_pred)\n",
    "\n",
    "        y_pred = np.argmax(y_pred.detach().numpy()[0,0])\n",
    "        x_cur = np.argmax(x_train[i].numpy()[0])\n",
    "\n",
    "        if i > 0 and i < x_train.shape[0] -1:\n",
    "#             print('y1',y_pred,'y',y, 'e',x_cur )\n",
    "            y1ye[y_pred,y,x_cur] += 1\n",
    "        y = y_pred\n",
    "    \n",
    "    return y1ye\n",
    "\n",
    "    \n",
    "pxpypz_nn_w = make_pxpypz_nn(x_train, mod, weight_flag = True)\n",
    "pxpypz_nn_nw = make_pxpypz_nn(x_train, mod, weight_flag = False)\n"
   ]
  },
  {
   "cell_type": "markdown",
   "metadata": {},
   "source": [
    "# The prediction here is that the LSTM with state will have higher NTIC and lower J than the LSTM with no state."
   ]
  },
  {
   "cell_type": "code",
   "execution_count": null,
   "metadata": {},
   "outputs": [],
   "source": [
    "print(ntic(pxpypz_nn_nw))\n",
    "print(ntic(pxpypz_nn_w))\n"
   ]
  },
  {
   "cell_type": "code",
   "execution_count": 24,
   "metadata": {},
   "outputs": [],
   "source": [
    "import copy"
   ]
  },
  {
   "cell_type": "markdown",
   "metadata": {},
   "source": [
    "# Lets train again and measure progress throughout"
   ]
  },
  {
   "cell_type": "code",
   "execution_count": null,
   "metadata": {},
   "outputs": [],
   "source": [
    "#Here we actuall do it right\n",
    "num_epochs = 200\n",
    "\n",
    "#Assuming we have X_t, predict X_t+1\n",
    "q = np.array(X.T)\n",
    "x_train = q[0,:-1]\n",
    "y_train = q[0,1:]\n",
    "x_train = one_hot(x_train)\n",
    "# y_train = one_hot(y_train)\n",
    "\n",
    "x_train = np.expand_dims(x_train,1)\n",
    "y_train = np.expand_dims(y_train,1)\n",
    "\n",
    "\n",
    "x_train = torch.from_numpy(x_train).float()\n",
    "y_train = torch.from_numpy(y_train).long()\n",
    "\n",
    "#We need samples, batch, in_shape\n",
    "print(\"X\",x_train.shape, x_train.type())\n",
    "print(\"Y\",y_train.shape, y_train.type())\n",
    "\n",
    "#Stuff\n",
    "mod_t = nn.LSTM(4,4)\n",
    "mod2_t = nn.Linear(4,4)\n",
    "sig_t = nn.Sigmoid()\n",
    "loss_fn_t = nn.CrossEntropyLoss()\n",
    "opt_t = torch.optim.Adam(mod_t.parameters(),lr=.01)\n",
    "\n",
    "weights = None\n",
    "\n",
    "nt_l_w= []\n",
    "nt_l_nw= []\n",
    "j_l_w = []\n",
    "j_l_nw= []\n",
    "cross_l = []\n",
    "\n",
    "#Train\n",
    "print('Training')\n",
    "for t in range(num_epochs):\n",
    "    mod_t.zero_grad()\n",
    "    \n",
    "#     tlstm.hidden = tlstm.init_hidden()\n",
    "    \n",
    "    #Forward\n",
    "    y_pred, weights  = mod_t(x_train,weights)\n",
    "    y_pred = sig_t(y_pred)\n",
    "#     y_pred = mod2(y_pred)\n",
    "#     print('y_train',y_train[:,0].shape,y_train.type())\n",
    "#     print('y_pred',y_pred[:,0,:].shape,y_pred.type())\n",
    "    loss= loss_fn_t(y_pred[:,0,:],y_train[:,0])\n",
    "    \n",
    "    opt_t.zero_grad()\n",
    "    \n",
    "    loss.backward(retain_graph=True)\n",
    "    \n",
    "    opt_t.step()\n",
    "    \n",
    "    if t%2 == 0:\n",
    "        print(\"Epoch \", t, \"Cross Entropy:\",loss.item())\n",
    "    if t%20 ==0:\n",
    "        mt = copy.deepcopy(mod_t)\n",
    "        pxpypz_nn_w = make_pxpypz_nn(x_train, mt, weight_flag = True)\n",
    "        nt,j = ntic(pxpypz_nn_w)\n",
    "        nt_l_w.append(nt)\n",
    "        j_l_w.append(j)\n",
    "        \n",
    "        \n",
    "        pxpypz_nn_nw = make_pxpypz_nn(x_train, mt, weight_flag = False)\n",
    "        nt,j = ntic(pxpypz_nn_nw)\n",
    "        nt_l_nw.append(nt)\n",
    "        j_l_nw.append(j)\n",
    "        \n",
    "        cross_l.append(loss.item())"
   ]
  },
  {
   "cell_type": "code",
   "execution_count": 45,
   "metadata": {},
   "outputs": [
    {
     "data": {
      "text/plain": [
       "[<matplotlib.lines.Line2D at 0x13653e240>]"
      ]
     },
     "execution_count": 45,
     "metadata": {},
     "output_type": "execute_result"
    },
    {
     "data": {
      "image/png": "[encoded data removed]",
      "text/plain": [
       "<Figure size 432x288 with 1 Axes>"
      ]
     },
     "metadata": {
      "needs_background": "light"
     },
     "output_type": "display_data"
    },
    {
     "data": {
      "image/png": "[encoded data removed]",
      "text/plain": [
       "<Figure size 432x288 with 1 Axes>"
      ]
     },
     "metadata": {
      "needs_background": "light"
     },
     "output_type": "display_data"
    },
    {
     "data": {
      "image/png": "[encoded data removed]",
      "text/plain": [
       "<Figure size 432x288 with 1 Axes>"
      ]
     },
     "metadata": {
      "needs_background": "light"
     },
     "output_type": "display_data"
    }
   ],
   "source": [
    "steps = np.arange(len(nt_l_w))*5\n",
    "plt.plot(steps,nt_l_w,label='Hidden State')\n",
    "plt.plot(steps,nt_l_nw,label='No Hidden State')\n",
    "plt.xlabel('Optimization Steps')\n",
    "plt.ylabel('NTIC(bits)')\n",
    "plt.title('NTIC through LSTM Training')\n",
    "plt.legend()\n",
    "\n",
    "plt.figure()\n",
    "plt.plot(steps,j_l_w, label = 'Hidden State')\n",
    "plt.plot(steps,j_l_nw,label='No Hidden State')\n",
    "plt.xlabel('Optimization Steps')\n",
    "plt.ylabel('NTIC(bits)')\n",
    "plt.title('Information Flow through LSTM Training')\n",
    "plt.legend()\n",
    "\n",
    "plt.figure()\n",
    "plt.plot(cross_l)\n"
   ]
  },
  {
   "cell_type": "code",
   "execution_count": 29,
   "metadata": {},
   "outputs": [
    {
     "name": "stdout",
     "output_type": "stream",
     "text": [
      "[[[0.000 0.000 0.000 0.000]\n",
      "  [22516.000 2418.000 22410.000 2263.000]\n",
      "  [0.000 20.000 79.000 20.000]\n",
      "  [0.000 0.000 0.000 0.000]]\n",
      "\n",
      " [[2502.000 22522.000 2204.000 22174.000]\n",
      "  [0.000 0.000 0.000 0.000]\n",
      "  [26.000 0.000 208.000 0.000]\n",
      "  [0.000 0.000 0.000 0.000]]\n",
      "\n",
      " [[7.000 47.000 0.000 270.000]\n",
      "  [29.000 0.000 0.000 0.000]\n",
      "  [0.000 0.000 70.000 213.000]\n",
      "  [0.000 0.000 0.000 0.000]]\n",
      "\n",
      " [[0.000 0.000 0.000 0.000]\n",
      "  [0.000 0.000 0.000 0.000]\n",
      "  [0.000 0.000 0.000 0.000]\n",
      "  [0.000 0.000 0.000 0.000]]]\n",
      "H(Y_t+1) 0.0\n",
      "H(Y_t+1|e_t 0.0\n",
      "H(Y_t+1|Y_t) 0.0\n",
      "H(Y_t+1|E_t,Y_t) 0.0\n"
     ]
    },
    {
     "name": "stderr",
     "output_type": "stream",
     "text": [
      "/usr/local/lib/python3.7/site-packages/ipykernel_launcher.py:11: RuntimeWarning: divide by zero encountered in log2\n",
      "  # This is added back by InteractiveShellApp.init_path()\n",
      "/usr/local/lib/python3.7/site-packages/ipykernel_launcher.py:11: RuntimeWarning: invalid value encountered in multiply\n",
      "  # This is added back by InteractiveShellApp.init_path()\n",
      "/usr/local/lib/python3.7/site-packages/ipykernel_launcher.py:10: RuntimeWarning: invalid value encountered in true_divide\n",
      "  # Remove the CWD from sys.path while we load stuff.\n"
     ]
    }
   ],
   "source": [
    "mt = copy.deepcopy(mod_t)\n",
    "pxpypz_nn_w = make_pxpypz_nn(x_train, mt, weight_flag = True)\n",
    "print(pxpypz)\n",
    "nt,j = ntic(pxpypz_nn_w)"
   ]
  },
  {
   "cell_type": "code",
   "execution_count": null,
   "metadata": {},
   "outputs": [],
   "source": [
    "input = torch.randn(3, 5, requires_grad=True)\n",
    "target = torch.empty(3, dtype=torch.long).random_(5)\n",
    "output = loss_fn(input, target)\n",
    "print(input.type())\n",
    "print(target.type())\n",
    "print(output)"
   ]
  },
  {
   "cell_type": "code",
   "execution_count": null,
   "metadata": {},
   "outputs": [],
   "source": [
    "components = 1\n",
    "lstm = nn.LSTM(components,4)\n",
    "criterion = nn.CrossEntropyLoss()\n",
    "\n",
    "# initialize the hidden state.\n",
    "hidden = (torch.randn(1,1, 4).long())\n",
    "\n",
    "# inputs = [torch.randn(1, 3) for _ in range(5)]"
   ]
  },
  {
   "cell_type": "code",
   "execution_count": null,
   "metadata": {},
   "outputs": [],
   "source": [
    "in1 = np.expand_dims(q[0,:-1],-1)\n",
    "in1 = np.expand_dims(in1,-1)\n",
    "in1 = torch.from_numpy(in1).long()\n",
    "out1 = np.expand_dims(q[0,1:],-1)\n",
    "out1 = np.expand_dims(out1,-1)\n",
    "out1 = torch.from_numpy(out1).long()\n",
    "print(in1.shape,out1.shape)\n",
    "\n",
    "print(in1.type(),out1.type())"
   ]
  }
 ],
 "metadata": {
  "kernelspec": {
   "display_name": "Python 3",
   "language": "python",
   "name": "python3"
  },
  "language_info": {
   "codemirror_mode": {
    "name": "ipython",
    "version": 3
   },
   "file_extension": ".py",
   "mimetype": "text/x-python",
   "name": "python",
   "nbconvert_exporter": "python",
   "pygments_lexer": "ipython3",
   "version": "3.7.3"
  }
 },
 "nbformat": 4,
 "nbformat_minor": 2
}
